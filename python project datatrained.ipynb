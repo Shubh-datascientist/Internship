{
 "cells": [
  {
   "cell_type": "markdown",
   "id": "1ce20d8f",
   "metadata": {},
   "source": [
    "11)  Python program to find the factorial of a number\n",
    "num = 7\n",
    "fac = 7 * 6 * 5 * 4 * 3 * 2 * 1 = 5040"
   ]
  },
  {
   "cell_type": "code",
   "execution_count": 1,
   "id": "9c4a06eb",
   "metadata": {},
   "outputs": [
    {
     "name": "stdout",
     "output_type": "stream",
     "text": [
      "The factorial of 7 is 5040\n"
     ]
    }
   ],
   "source": [
    "num = 7\n",
    "factorial = 1\n",
    "\n",
    "if num < 0:\n",
    "   print(\"Sorry, factorial does not exist for negative numbers\")\n",
    "else:\n",
    "   for i in range(1,num + 1):\n",
    "       factorial = factorial*i\n",
    "   print(\"The factorial of\",num,\"is\",factorial)"
   ]
  },
  {
   "cell_type": "markdown",
   "id": "0e056262",
   "metadata": {},
   "source": [
    "12)Write a python program to find whether a number is prime or composite."
   ]
  },
  {
   "cell_type": "code",
   "execution_count": 2,
   "id": "012beb62",
   "metadata": {},
   "outputs": [
    {
     "name": "stdout",
     "output_type": "stream",
     "text": [
      "Enter any number : 4\n",
      "4 is NOT a prime number\n"
     ]
    }
   ],
   "source": [
    "num = int(input(\"Enter any number : \"))\n",
    "if num > 1:\n",
    "    for i in range(2, num):\n",
    "        if (num % i) == 0:\n",
    "            print(num, \"is NOT a prime number\")\n",
    "            break\n",
    "    else:\n",
    "        print(num, \"is a PRIME number\")\n",
    "elif num == 0 or 1:\n",
    "    print(num, \"is a neither prime NOR composite number\")\n",
    "else:\n",
    "    print(num, \"is NOT a prime number it is a COMPOSITE number\")"
   ]
  },
  {
   "cell_type": "markdown",
   "id": "8f0da4db",
   "metadata": {},
   "source": [
    "13)Python program to check whether a given string is palindrome or not\n",
    " madam"
   ]
  },
  {
   "cell_type": "code",
   "execution_count": 3,
   "id": "6c39f602",
   "metadata": {},
   "outputs": [
    {
     "name": "stdout",
     "output_type": "stream",
     "text": [
      "Yes\n"
     ]
    }
   ],
   "source": [
    "a = \"madam\"\n",
    " \n",
    "b = \"\"\n",
    "for i in a:\n",
    "    b = i + b\n",
    "    \n",
    "if (a == b):\n",
    "    print(\"Yes\")\n",
    "else:\n",
    "    print(\"No\")\n",
    "   "
   ]
  },
  {
   "cell_type": "markdown",
   "id": "9b802c99",
   "metadata": {},
   "source": [
    " 14) Write a Python program to get the third side of right-angled triangle from two given sides. "
   ]
  },
  {
   "cell_type": "code",
   "execution_count": 4,
   "id": "1e5f734a",
   "metadata": {},
   "outputs": [
    {
     "name": "stdout",
     "output_type": "stream",
     "text": [
      "Hypotenuse = 5.0\n",
      "Adjacent = 4.0\n",
      "Opposite = 3.0\n",
      "You know the answer!\n"
     ]
    }
   ],
   "source": [
    "# Hypotenuse = 5.0\n",
    "# Adjacent = 4.0\n",
    "# Opposite = 3.0\n",
    "def pythagoras(opposite_side,adjacent_side,hypotenuse):\n",
    "        if opposite_side == str(\"x\"):\n",
    "            return (\"Opposite = \" + str(((hypotenuse**2) - (adjacent_side**2))**0.5))\n",
    "        elif adjacent_side == str(\"x\"):\n",
    "            return (\"Adjacent = \" + str(((hypotenuse**2) - (opposite_side**2))**0.5))\n",
    "        elif hypotenuse == str(\"x\"):\n",
    "            return (\"Hypotenuse = \" + str(((opposite_side**2) + (adjacent_side**2))**0.5))\n",
    "        else:\n",
    "            return \"You know the answer!\"\n",
    "    \n",
    "print(pythagoras(3,4,'x'))\n",
    "print(pythagoras(3,'x',5))\n",
    "print(pythagoras('x',4,5))\n",
    "print(pythagoras(3,4,5))"
   ]
  },
  {
   "cell_type": "markdown",
   "id": "4adaf889",
   "metadata": {},
   "source": [
    "15) Python program to print the frequency of each of the characters present in a given string"
   ]
  },
  {
   "cell_type": "code",
   "execution_count": 5,
   "id": "2a331144",
   "metadata": {},
   "outputs": [
    {
     "name": "stdout",
     "output_type": "stream",
     "text": [
      "Given String:  datascience\n",
      "Frequency of each character :\n",
      "  {'d': 1}\n",
      "Frequency of each character :\n",
      "  {'d': 1, 'a': 1}\n",
      "Frequency of each character :\n",
      "  {'d': 1, 'a': 1, 't': 1}\n",
      "Frequency of each character :\n",
      "  {'d': 1, 'a': 2, 't': 1}\n",
      "Frequency of each character :\n",
      "  {'d': 1, 'a': 2, 't': 1, 's': 1}\n",
      "Frequency of each character :\n",
      "  {'d': 1, 'a': 2, 't': 1, 's': 1, 'c': 1}\n",
      "Frequency of each character :\n",
      "  {'d': 1, 'a': 2, 't': 1, 's': 1, 'c': 1, 'i': 1}\n",
      "Frequency of each character :\n",
      "  {'d': 1, 'a': 2, 't': 1, 's': 1, 'c': 1, 'i': 1, 'e': 1}\n",
      "Frequency of each character :\n",
      "  {'d': 1, 'a': 2, 't': 1, 's': 1, 'c': 1, 'i': 1, 'e': 1, 'n': 1}\n",
      "Frequency of each character :\n",
      "  {'d': 1, 'a': 2, 't': 1, 's': 1, 'c': 2, 'i': 1, 'e': 1, 'n': 1}\n",
      "Frequency of each character :\n",
      "  {'d': 1, 'a': 2, 't': 1, 's': 1, 'c': 2, 'i': 1, 'e': 2, 'n': 1}\n"
     ]
    }
   ],
   "source": [
    "# Datascience\n",
    "strg = \"datascience\"\n",
    "print(\"Given String: \",strg)\n",
    "res = {}\n",
    "\n",
    "for keys in strg:\n",
    "    res[keys] = res.get(keys, 0) + 1\n",
    "    print(\"Frequency of each character :\\n \",res)"
   ]
  },
  {
   "cell_type": "code",
   "execution_count": null,
   "id": "c8cb49ed",
   "metadata": {},
   "outputs": [],
   "source": [
    " "
   ]
  }
 ],
 "metadata": {
  "kernelspec": {
   "display_name": "Python 3",
   "language": "python",
   "name": "python3"
  },
  "language_info": {
   "codemirror_mode": {
    "name": "ipython",
    "version": 3
   },
   "file_extension": ".py",
   "mimetype": "text/x-python",
   "name": "python",
   "nbconvert_exporter": "python",
   "pygments_lexer": "ipython3",
   "version": "3.8.8"
  }
 },
 "nbformat": 4,
 "nbformat_minor": 5
}
